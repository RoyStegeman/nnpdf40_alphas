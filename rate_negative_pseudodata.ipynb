{
 "cells": [
  {
   "cell_type": "code",
   "execution_count": null,
   "metadata": {},
   "outputs": [],
   "source": [
    "from validphys.api import API\n",
    "import pandas as pd"
   ]
  },
  {
   "cell_type": "code",
   "execution_count": null,
   "metadata": {},
   "outputs": [],
   "source": [
    "fit = API.fit(fit = '240514-rs-alphas-tcm-closure')"
   ]
  },
  {
   "cell_type": "code",
   "execution_count": null,
   "metadata": {},
   "outputs": [],
   "source": [
    "pseudodata = pd.concat([i.pseudodata for i in API.read_pdf_pseudodata(fit=fit.name)], axis=1)\n",
    "n_reps = pseudodata.shape[1]"
   ]
  },
  {
   "cell_type": "code",
   "execution_count": null,
   "metadata": {},
   "outputs": [],
   "source": [
    "def fraction_of_negative_values(row):\n",
    "    negative_values = (row < 0).sum()\n",
    "    return negative_values / n_reps\n",
    "\n",
    "pseudodata[\"fraction_negative\"] = pseudodata.apply(fraction_of_negative_values, axis=1)"
   ]
  },
  {
   "cell_type": "code",
   "execution_count": null,
   "metadata": {},
   "outputs": [],
   "source": [
    "pseudodata_negative = pseudodata[pseudodata[\"fraction_negative\"] > 0]\n",
    "dataframe_to_print = pd.DataFrame(pseudodata_negative[\"fraction_negative\"]).sort_values(by=[\"group\", \"dataset\", \"fraction_negative\"], ascending=[True, True, False])"
   ]
  },
  {
   "cell_type": "code",
   "execution_count": null,
   "metadata": {},
   "outputs": [],
   "source": [
    "with open(\"index.html\", \"w\") as f:\n",
    "    f.write(dataframe_to_print.to_html())"
   ]
  }
 ],
 "metadata": {
  "kernelspec": {
   "display_name": "nnpdf",
   "language": "python",
   "name": "python3"
  },
  "language_info": {
   "codemirror_mode": {
    "name": "ipython",
    "version": 3
   },
   "file_extension": ".py",
   "mimetype": "text/x-python",
   "name": "python",
   "nbconvert_exporter": "python",
   "pygments_lexer": "ipython3",
   "version": "3.11.8"
  }
 },
 "nbformat": 4,
 "nbformat_minor": 2
}
