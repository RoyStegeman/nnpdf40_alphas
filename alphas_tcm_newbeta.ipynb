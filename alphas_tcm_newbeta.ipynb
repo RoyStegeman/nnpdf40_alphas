{
 "cells": [
  {
   "cell_type": "markdown",
   "id": "df579a40",
   "metadata": {},
   "source": [
    "# PREAMBLE\n",
    "<script\n",
    "  src=\"https://cdn.mathjax.org/mathjax/latest/MathJax.js?config=TeX-AMS-MML_HTMLorMML\"\n",
    "  type=\"text/javascript\">\n",
    "</script>"
   ]
  },
  {
   "cell_type": "code",
   "execution_count": null,
   "id": "226dc610",
   "metadata": {},
   "outputs": [],
   "source": [
    "\n",
    "import numpy as np\n",
    "import pandas as pd\n",
    "from validphys.api import API\n",
    "from validphys.loader import FallbackLoader\n",
    "\n",
    "%matplotlib inline\n",
    "\n",
    "l = FallbackLoader()"
   ]
  },
  {
   "cell_type": "markdown",
   "id": "85af2b80",
   "metadata": {},
   "source": [
    "# Definition of the input"
   ]
  },
  {
   "cell_type": "code",
   "execution_count": null,
   "id": "377309ca",
   "metadata": {},
   "outputs": [],
   "source": [
    "fitname = \"240502-rs-alphas-tcm\"\n",
    "\n",
    "mhou_fit = False\n",
    "\n",
    "\n",
    "covmat_scaling_factor = 0.5"
   ]
  },
  {
   "cell_type": "markdown",
   "id": "06c28e66",
   "metadata": {},
   "source": [
    "# COMPUTATION OF $\\alpha_s$"
   ]
  },
  {
   "cell_type": "code",
   "execution_count": null,
   "id": "c9d93689",
   "metadata": {},
   "outputs": [],
   "source": [
    "fit = API.fit(fit=fitname)\n",
    "\n",
    "prior_pdf = fit.as_input()[\"theorycovmatconfig\"][\"pdf\"]\n",
    "# prior_pdf = \"240409-01-rs-symm_pos_pseudodata\"\n",
    "\n",
    "common_dict = dict(\n",
    "    dataset_inputs={\"from_\": \"fit\"},\n",
    "    fit=fit.name,\n",
    "    fits=[fit.name],\n",
    "    use_cuts=\"fromfit\",\n",
    "    metadata_group=\"nnpdf31_process\",\n",
    ")\n",
    "\n",
    "theoryids = API.theoryids( **({\n",
    "        \"point_prescription\": {\"from_\": \"theorycovmatconfig\"},\n",
    "        \"theoryids\":{ \"from_\": \"scale_variation_theories\"},\n",
    "        \"theoryid\": {\"from_\": \"theory\"},\n",
    "        \"theory\": {\"from_\": \"fit\"},\n",
    "        \"theorycovmatconfig\": {\"from_\": \"fit\"},\n",
    "    } | common_dict))\n",
    "theory_plus = theoryids[1].id\n",
    "theory_mid = theoryids[0].id\n",
    "theory_min = theoryids[2].id\n",
    "\n",
    "# Inputs for central theory (used to construct the alphas covmat)\n",
    "inps_central = dict(theoryid=theory_mid, pdf=prior_pdf, **common_dict)\n",
    "\n",
    "# Inputs for plus theory (used to construct the alphas covmat)\n",
    "inps_plus = dict(theoryid=theory_plus, pdf=prior_pdf, **common_dict)\n",
    "\n",
    "# Inputs for minus theory prediction (used to construct the alphas covmat)\n",
    "inps_minus = dict(theoryid=theory_min, pdf=prior_pdf, **common_dict)\n",
    "\n",
    "# inputs for the computation of the prediction of the fit with cov=C+S, where S is computed using the\n",
    "# inps_central, inps_plus, and inps_minus dictionaries\n",
    "inps_central_fit = dict(theoryid=theory_mid, pdf={\"from_\": \"fit\"}, **common_dict)"
   ]
  },
  {
   "cell_type": "code",
   "execution_count": null,
   "id": "758cdc8a",
   "metadata": {
    "scrolled": true
   },
   "outputs": [],
   "source": [
    "prior_theorypreds_central = API.group_result_table_no_table(**inps_central).iloc[:, 2:].mean(axis=1)"
   ]
  },
  {
   "cell_type": "code",
   "execution_count": null,
   "id": "17d8f476",
   "metadata": {},
   "outputs": [],
   "source": [
    "prior_theorypreds_plus = API.group_result_table_no_table(**inps_plus).iloc[:, 2:].mean(axis=1)"
   ]
  },
  {
   "cell_type": "code",
   "execution_count": null,
   "id": "1ad88c90",
   "metadata": {},
   "outputs": [],
   "source": [
    "prior_theorypreds_minus = API.group_result_table_no_table(**inps_minus).iloc[:, 2:].mean(axis=1)"
   ]
  },
  {
   "cell_type": "code",
   "execution_count": null,
   "id": "31bc992d",
   "metadata": {},
   "outputs": [],
   "source": [
    "gamma = prior_theorypreds_plus + prior_theorypreds_minus - 2 * prior_theorypreds_central"
   ]
  },
  {
   "cell_type": "code",
   "execution_count": null,
   "id": "ac757095",
   "metadata": {},
   "outputs": [],
   "source": [
    "# Get the values of alphas...\n",
    "alphas_plus = API.theory_info_table(theory_db_id=theory_plus).loc[\"alphas\"].iloc[0]\n",
    "alphas_central = API.theory_info_table(theory_db_id=theory_mid).loc[\"alphas\"].iloc[0]\n",
    "alphas_min = API.theory_info_table(theory_db_id=theory_min).loc[\"alphas\"].iloc[0]\n",
    "\n",
    "# ... and make sure the alphas shift in both directions is symmetric\n",
    "delta_alphas_plus = alphas_plus - alphas_central\n",
    "delta_alphas_min = alphas_central - alphas_min\n",
    "if abs(delta_alphas_min - delta_alphas_plus) > 1e-6:\n",
    "    raise ValueError(\"alphas shifts in both directions is not symmetric\")\n",
    "else:\n",
    "    alphas_step_size = delta_alphas_min"
   ]
  },
  {
   "cell_type": "code",
   "execution_count": null,
   "id": "4905bf12",
   "metadata": {},
   "outputs": [],
   "source": [
    "alphas_central"
   ]
  },
  {
   "cell_type": "code",
   "execution_count": null,
   "id": "3179f33f",
   "metadata": {},
   "outputs": [],
   "source": [
    "beta_tilde = np.sqrt(covmat_scaling_factor) * (alphas_step_size)\n",
    "S_tilde = beta_tilde * beta_tilde"
   ]
  },
  {
   "cell_type": "code",
   "execution_count": null,
   "id": "639ca971",
   "metadata": {},
   "outputs": [],
   "source": [
    "# delta_plus = (np.sqrt(covmat_scaling_factor) / np.sqrt(2)) * (\n",
    "#     prior_theorypreds_plus - prior_theorypreds_central\n",
    "# )\n",
    "# delta_minus = (np.sqrt(covmat_scaling_factor) / np.sqrt(2)) * (\n",
    "#     prior_theorypreds_minus - prior_theorypreds_central\n",
    "# )\n",
    "\n",
    "# beta = [delta_plus, delta_minus]\n",
    "# S_hat = beta_tilde @ beta\n",
    "\n",
    "# S = np.outer(delta_plus, delta_plus) + np.outer(delta_minus, delta_minus)\n",
    "# S = pd.DataFrame(S, index=delta_minus.index, columns=delta_minus.index)"
   ]
  },
  {
   "cell_type": "code",
   "execution_count": null,
   "id": "1bf9b7f1",
   "metadata": {},
   "outputs": [],
   "source": [
    "beta = np.sqrt(covmat_scaling_factor) * (\n",
    "    prior_theorypreds_plus - prior_theorypreds_minus\n",
    ")\n",
    "\n",
    "S_hat = beta_tilde * beta\n",
    "\n",
    "S = np.outer(beta, beta)\n",
    "S = pd.DataFrame(S, index=beta.index, columns=beta.index)"
   ]
  },
  {
   "cell_type": "code",
   "execution_count": null,
   "id": "fe666f4c",
   "metadata": {},
   "outputs": [],
   "source": [
    "try:\n",
    "    stored_covmat = pd.read_csv(\n",
    "        fit.path / \"tables/datacuts_theory_theorycovmatconfig_user_covmat.csv\",\n",
    "        sep=\"\\t\",\n",
    "        encoding=\"utf-8\",\n",
    "        index_col=2,\n",
    "        header=3,\n",
    "        skip_blank_lines=False,\n",
    "    )\n",
    "except FileNotFoundError:\n",
    "    stored_covmat = pd.read_csv(\n",
    "        fit.path / \"tables/datacuts_theory_theorycovmatconfig_theory_covmat_custom.csv\",\n",
    "        index_col=[0, 1, 2],\n",
    "        header=[0, 1, 2],\n",
    "        sep=\"\\t|,\",\n",
    "        engine=\"python\",\n",
    "    ).fillna(0)\n",
    "    storedcovmat_index = pd.MultiIndex.from_tuples(\n",
    "        [(aa, bb, np.int64(cc)) for aa, bb, cc in stored_covmat.index],\n",
    "        names=[\"group\", \"dataset\", \"id\"],\n",
    "    )  # make sure theoryID is an integer, same as in S\n",
    "    stored_covmat = pd.DataFrame(\n",
    "        stored_covmat.values, index=storedcovmat_index, columns=storedcovmat_index\n",
    "    )\n",
    "    stored_covmat = stored_covmat.reindex(S.index).T.reindex(S.index)\n",
    "\n",
    "if not np.allclose(fit.as_input()[\"theorycovmatconfig\"][\"rescale_alphas_covmat\"] * S, stored_covmat):\n",
    "    print(\"Reconstructed theory covmat, S, is not the same as the stored covmat!\")"
   ]
  },
  {
   "cell_type": "code",
   "execution_count": null,
   "id": "29e4c30f",
   "metadata": {},
   "outputs": [],
   "source": [
    "theorypreds_fit = API.group_result_table_no_table(**inps_central_fit).iloc[:, 2:]"
   ]
  },
  {
   "cell_type": "code",
   "execution_count": null,
   "id": "ac6553b1",
   "metadata": {},
   "outputs": [],
   "source": [
    "# Experimental covariance matrix\n",
    "C = API.groups_covmat(\n",
    "    use_t0=True,\n",
    "    datacuts={\"from_\": \"fit\"},\n",
    "    t0pdfset={\"from_\": \"datacuts\"},\n",
    "    theoryid=theory_mid,\n",
    "    **common_dict\n",
    ")"
   ]
  },
  {
   "cell_type": "code",
   "execution_count": null,
   "id": "6ed73880",
   "metadata": {},
   "outputs": [],
   "source": [
    "# # MHOU covmat saved as user uncertainties\n",
    "# try:\n",
    "#     mhou_fit = fit.as_input()[\"theorycovmatconfig\"][\"use_user_uncertainties\"]\n",
    "#     if mhou_fit:\n",
    "#         mhou_covmat = API.user_covmat(**(inps_central_fit|fit.as_input()['theorycovmatconfig']))\n",
    "#         exp_covmat = C # we don't use exp_covmat, but may be useful to keep\n",
    "#         C = C + mhou_covmat\n",
    "# except:\n",
    "#     pass"
   ]
  },
  {
   "cell_type": "code",
   "execution_count": null,
   "id": "a05e4850",
   "metadata": {},
   "outputs": [],
   "source": [
    "# Different from the prediction of the mean PDF (i.e. replica0)\n",
    "mean_prediction = theorypreds_fit.mean(axis=1)\n",
    "\n",
    "X = np.zeros_like(C.values)\n",
    "for i in range(theorypreds_fit.shape[1]):\n",
    "    X += np.outer(\n",
    "        (theorypreds_fit.iloc[:, i] - mean_prediction),\n",
    "        (theorypreds_fit.iloc[:, i] - mean_prediction),\n",
    "    )\n",
    "X *= 1 / theorypreds_fit.shape[1]"
   ]
  },
  {
   "cell_type": "code",
   "execution_count": null,
   "id": "308e7bd8",
   "metadata": {},
   "outputs": [],
   "source": [
    "pseudodata = API.read_pdf_pseudodata(**common_dict)"
   ]
  },
  {
   "cell_type": "code",
   "execution_count": null,
   "id": "f4ed15ab",
   "metadata": {},
   "outputs": [],
   "source": [
    "dat_reps = pd.concat(\n",
    "    [i.pseudodata.reindex(prior_theorypreds_central.index) for i in pseudodata], axis=1\n",
    ")\n",
    "# dat_central = API.group_result_central_table_no_table(**inps_central)[\"data_central\"]"
   ]
  },
  {
   "cell_type": "code",
   "execution_count": null,
   "id": "d8252954",
   "metadata": {},
   "outputs": [],
   "source": [
    "# Instead of loading, generate the pseudodata used in the fit (and maybe a bit more if so desired)\n",
    "\n",
    "# regenerate_pseudodata=API.pseudodata_table(\n",
    "#     nreplica=200,\n",
    "#     fit=prior_pdf,\n",
    "#     dataset_inputs={\"from_\": \"fit\"},\n",
    "#     use_cuts=\"fromfit\",\n",
    "#     theoryid=theory_mid,\n",
    "#     mcseed={\"from_\": \"fit\"},\n",
    "#     genrep={\"from_\": \"fit\"},\n",
    "#     separate_multiplicative=False,\n",
    "# )\n",
    "# regenerate_pseudodata.index = pd.MultiIndex.from_tuples([i[1:3] for i in regenerate_pseudodata.index], names=[\"dataset\", \"id\"])\n",
    "# regenerate_pseudodata = regenerate_pseudodata.reindex(pd.MultiIndex.from_tuples([i[1:3] for i in prior_theorypreds_central.index], names=[\"dataset\", \"id\"]))"
   ]
  },
  {
   "cell_type": "code",
   "execution_count": null,
   "id": "c921316f",
   "metadata": {},
   "outputs": [],
   "source": [
    "import gc; gc.collect()"
   ]
  },
  {
   "cell_type": "code",
   "execution_count": null,
   "id": "b674127d",
   "metadata": {},
   "outputs": [],
   "source": [
    "# z = 1 / (gamma @ np.linalg.inv(C) @ (prior_theorypreds_central - dat_central) + 1)\n",
    "z = fit.as_input()[\"theorycovmatconfig\"][\"rescale_alphas_covmat\"]\n",
    "z"
   ]
  },
  {
   "cell_type": "code",
   "execution_count": null,
   "id": "d0c7139f",
   "metadata": {},
   "outputs": [],
   "source": [
    "# z_vals = []\n",
    "# repindices = API.fitted_replica_indexes(pdf=fitname)\n",
    "# Cinv = np.linalg.inv(C)\n",
    "# datainfo = pd.concat(\n",
    "#     [i.pseudodata.reindex(prior_theorypreds_central.index) for i in pseudodata], axis=1\n",
    "# )\n",
    "# datcentral = API.group_result_central_table_no_table(**inps_central)[\"data_central\"]\n",
    "# for _ in range(int(1e4)):\n",
    "#     reps = np.random.randint(1,500,size=500)\n",
    "#     mask1 = [f'replica {repindices[r-1]}' for r in reps]\n",
    "#     mask2 = [f\"rep_{r:05d}\" for r in reps]\n",
    "#     z_vals.append(1 / (gamma.loc[:,mask2].mean(axis=1) @ Cinv @ (prior_theorypreds_central.loc[:,mask2].mean(axis=1) - datainfo.loc[:,mask1].mean(axis=1)) + 1))"
   ]
  },
  {
   "cell_type": "code",
   "execution_count": null,
   "id": "644a762b",
   "metadata": {},
   "outputs": [],
   "source": [
    "# in case we'd like to save the covmat to be used in a fit\n",
    "# savethiscovmat=z*S\n",
    "# savethiscovmat.to_csv(\"alphas_covmat-114_118_122-240401-01-rs-nnpdf40like-baseline.csv\")"
   ]
  },
  {
   "cell_type": "code",
   "execution_count": null,
   "id": "3b0e8a15",
   "metadata": {},
   "outputs": [],
   "source": [
    "invcov = np.linalg.inv(C + z*S)\n",
    "delta_T_tilde = - z * S_hat @ invcov @ (mean_prediction - dat_reps.mean(axis=1))\n",
    "P_tilde = z**2 * S_hat @ invcov @ X @ invcov @ S_hat + z * S_tilde - z**2 * S_hat @ invcov @ S_hat\n",
    "pred = alphas_central + delta_T_tilde\n",
    "unc = np.sqrt(P_tilde)\n",
    "print(rf\"Prediction for $\\alpha_s$: {pred:.4f} ± {unc:.4f}\")"
   ]
  },
  {
   "cell_type": "code",
   "execution_count": null,
   "id": "5deb2c40",
   "metadata": {},
   "outputs": [],
   "source": [
    "z**2 * S_hat @ invcov @ S_hat"
   ]
  },
  {
   "cell_type": "code",
   "execution_count": null,
   "id": "aafde5aa",
   "metadata": {},
   "outputs": [],
   "source": [
    "z * S_tilde"
   ]
  },
  {
   "cell_type": "code",
   "execution_count": null,
   "id": "86f6ae1d",
   "metadata": {},
   "outputs": [],
   "source": [
    "z**2 * S_hat @ invcov @ X @ invcov @ S_hat"
   ]
  },
  {
   "cell_type": "code",
   "execution_count": null,
   "id": "650c9359",
   "metadata": {},
   "outputs": [],
   "source": [
    "z**2 * S_hat @ invcov @ X @ invcov @ S_hat + z * S_tilde - z**2 * S_hat @ invcov @ S_hat"
   ]
  },
  {
   "cell_type": "code",
   "execution_count": null,
   "id": "69ebfe62",
   "metadata": {},
   "outputs": [],
   "source": [
    "delta_T_vals = []\n",
    "repindices = API.fitted_replica_indexes(pdf=fitname)\n",
    "\n",
    "for _ in range(int(1e3)):\n",
    "    reps = np.random.randint(1,500,size=500)\n",
    "    mask1 = [f'replica {repindices[r-1]}' for r in reps]\n",
    "    mask2 = [f\"rep_{r:05d}\" for r in reps]\n",
    "    delta_T_vals.append(- S_hat @ invcov @ (theorypreds_fit.loc[:,mask2].mean(axis=1) - dat_reps.loc[:,mask1].mean(axis=1)))\n",
    "delta_T_vals = np.array(delta_T_vals)"
   ]
  },
  {
   "cell_type": "code",
   "execution_count": null,
   "id": "3736b621",
   "metadata": {},
   "outputs": [],
   "source": [
    "print(np.std(delta_T_vals*z))\n",
    "print(np.mean(delta_T_vals*z))"
   ]
  },
  {
   "cell_type": "code",
   "execution_count": null,
   "id": "e0eb0705",
   "metadata": {},
   "outputs": [],
   "source": [
    "from matplotlib import pyplot as plt\n",
    "plt.hist(delta_T_vals*z)"
   ]
  },
  {
   "cell_type": "code",
   "execution_count": null,
   "id": "fd27dcef",
   "metadata": {},
   "outputs": [],
   "source": [
    "delta_z = 0.072\n",
    "delta_z * delta_T_tilde + z * np.std(delta_T_vals) + np.std(delta_T_vals) * delta_z"
   ]
  }
 ],
 "metadata": {
  "kernelspec": {
   "display_name": "Python 3 (ipykernel)",
   "language": "python",
   "name": "python3"
  },
  "language_info": {
   "codemirror_mode": {
    "name": "ipython",
    "version": 3
   },
   "file_extension": ".py",
   "mimetype": "text/x-python",
   "name": "python",
   "nbconvert_exporter": "python",
   "pygments_lexer": "ipython3",
   "version": "3.12.2"
  },
  "vscode": {
   "interpreter": {
    "hash": "589e3134e9d89160e5ace28972e8dc0b682f48816407b59cbfdad217f6fb745b"
   }
  }
 },
 "nbformat": 4,
 "nbformat_minor": 5
}
