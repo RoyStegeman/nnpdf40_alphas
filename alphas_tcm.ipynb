{
 "cells": [
  {
   "cell_type": "markdown",
   "id": "df579a40",
   "metadata": {},
   "source": [
    "# PREAMBLE\n",
    "<script\n",
    "  src=\"https://cdn.mathjax.org/mathjax/latest/MathJax.js?config=TeX-AMS-MML_HTMLorMML\"\n",
    "  type=\"text/javascript\">\n",
    "</script>"
   ]
  },
  {
   "cell_type": "code",
   "execution_count": null,
   "id": "226dc610",
   "metadata": {},
   "outputs": [],
   "source": [
    "\n",
    "import numpy as np\n",
    "import pandas as pd\n",
    "from validphys.api import API\n",
    "\n",
    "%matplotlib inline"
   ]
  },
  {
   "cell_type": "markdown",
   "id": "85af2b80",
   "metadata": {},
   "source": [
    "# Definition of the input"
   ]
  },
  {
   "cell_type": "code",
   "execution_count": null,
   "id": "377309ca",
   "metadata": {},
   "outputs": [],
   "source": [
    "fitname = \"241126-02-rs-n3lo_3pt-alphas-tcm\""
   ]
  },
  {
   "cell_type": "markdown",
   "id": "06c28e66",
   "metadata": {},
   "source": [
    "# COMPUTATION OF $\\alpha_s$"
   ]
  },
  {
   "cell_type": "code",
   "execution_count": null,
   "id": "c9d93689",
   "metadata": {},
   "outputs": [],
   "source": [
    "fit = API.fit(fit=fitname)\n",
    "\n",
    "# We have to know the name of the alphas point prescription (alphas_pp) to\n",
    "# extract the theoryids. We have to know alphas_pp_id to identify the .csv file\n",
    "# corresponding to the alphas covmat used in the fit\n",
    "pps = fit.as_input()[\"theorycovmatconfig\"][\"point_prescriptions\"]\n",
    "alphas_pp_id, alphas_pp = [[j,i] for j,i in enumerate(pps) if \"alphas\" in i][0]\n",
    "\n",
    "common_dict = dict(\n",
    "    dataset_inputs={\"from_\": \"fit\"},\n",
    "    fit=fit.name,\n",
    "    fits=[fit.name],\n",
    "    use_cuts=\"fromfit\",\n",
    "    metadata_group=\"nnpdf31_process\",\n",
    ")\n",
    "\n",
    "theoryids_dict = ({\n",
    "        \"point_prescription\": alphas_pp,\n",
    "        \"theoryid\": {\"from_\": \"theory\"},\n",
    "        \"theory\": {\"from_\": \"fit\"},\n",
    "        \"theorycovmatconfig\": {\"from_\": \"fit\"},\n",
    "    } | common_dict)\n",
    "theoryids = API.theoryids(**theoryids_dict)\n",
    "theory_plus = theoryids[1].id\n",
    "theory_mid = theoryids[0].id\n",
    "theory_min = theoryids[2].id\n",
    "\n",
    "thcov_input_pdf = fit.as_input()[\"theorycovmatconfig\"][\"pdf\"]\n",
    "\n",
    "# Inputs for central theory (used to construct the alphas covmat)\n",
    "inps_central = dict(theoryid=theory_mid, pdf=thcov_input_pdf, **common_dict)\n",
    "\n",
    "# Inputs for plus theory (used to construct the alphas covmat)\n",
    "inps_plus = dict(theoryid=theory_plus, pdf=thcov_input_pdf, **common_dict)\n",
    "\n",
    "# Inputs for minus theory prediction (used to construct the alphas covmat)\n",
    "inps_minus = dict(theoryid=theory_min, pdf=thcov_input_pdf, **common_dict)\n",
    "\n",
    "# inputs for the computation of the prediction of the fit with cov=C+S, where S\n",
    "# is computed using the inps_central, inps_plus, and inps_minus dictionaries\n",
    "inps_central_fit = dict(theoryid=theory_mid, pdf={\"from_\": \"fit\"}, **common_dict)"
   ]
  },
  {
   "cell_type": "code",
   "execution_count": null,
   "id": "8d73b498",
   "metadata": {},
   "outputs": [],
   "source": [
    "if fit.as_input()[\"resample_negative_pseudodata\"] != False:\n",
    "    print(\"The TCM assumes Gaussianity of the pseudodata, to ensure this set\")\n",
    "    print(\"resample_negative_pseudodata: False\")\n",
    "    print(\"in the n3fit runcard!\")"
   ]
  },
  {
   "cell_type": "code",
   "execution_count": null,
   "id": "758cdc8a",
   "metadata": {
    "scrolled": true
   },
   "outputs": [],
   "source": [
    "prior_theorypreds_central = API.group_result_central_table_no_table(**inps_central)[\"theory_central\"]\n",
    "prior_theorypreds_plus = API.group_result_central_table_no_table(**inps_plus)[\"theory_central\"]\n",
    "prior_theorypreds_minus = API.group_result_central_table_no_table(**inps_minus)[\"theory_central\"]"
   ]
  },
  {
   "cell_type": "code",
   "execution_count": null,
   "id": "ac757095",
   "metadata": {},
   "outputs": [],
   "source": [
    "# Get the values of alphas...\n",
    "alphas_plus = API.theory_info_table(theory_db_id=theory_plus).loc[\"alphas\"].iloc[0]\n",
    "alphas_central = API.theory_info_table(theory_db_id=theory_mid).loc[\"alphas\"].iloc[0]\n",
    "alphas_min = API.theory_info_table(theory_db_id=theory_min).loc[\"alphas\"].iloc[0]\n",
    "\n",
    "# ... and make sure the alphas shift in both directions is symmetric\n",
    "delta_alphas_plus = alphas_plus - alphas_central\n",
    "delta_alphas_min = alphas_central - alphas_min\n",
    "if abs(delta_alphas_min - delta_alphas_plus) > 1e-6:\n",
    "    raise ValueError(\"alphas shifts in both directions is not symmetric\")\n",
    "else:\n",
    "    alphas_step_size = delta_alphas_min"
   ]
  },
  {
   "cell_type": "code",
   "execution_count": null,
   "id": "3179f33f",
   "metadata": {},
   "outputs": [],
   "source": [
    "# At some point we scaled the covmat to account for higher order derivatives or\n",
    "# to test depencence of the prior. It is not used in the final result\n",
    "covmat_scaling_factor = fit.as_input().get(\"theorycovmatconfig\",{}).get(\"rescale_alphas_covmat\",1.0)\n",
    "\n",
    "beta_tilde = np.sqrt(covmat_scaling_factor) * (alphas_step_size / np.sqrt(2)) * np.array([1, -1])\n",
    "S_tilde = beta_tilde @ beta_tilde"
   ]
  },
  {
   "cell_type": "code",
   "execution_count": null,
   "id": "639ca971",
   "metadata": {},
   "outputs": [],
   "source": [
    "delta_plus = (np.sqrt(covmat_scaling_factor) / np.sqrt(2)) * (\n",
    "    prior_theorypreds_plus - prior_theorypreds_central\n",
    ")\n",
    "delta_minus = (np.sqrt(covmat_scaling_factor) / np.sqrt(2)) * (\n",
    "    prior_theorypreds_minus - prior_theorypreds_central\n",
    ")\n",
    "\n",
    "beta = [delta_plus, delta_minus]\n",
    "S_hat = beta_tilde @ beta\n",
    "\n",
    "S = np.outer(delta_plus, delta_plus) + np.outer(delta_minus, delta_minus)\n",
    "S = pd.DataFrame(S, index=delta_minus.index, columns=delta_minus.index)"
   ]
  },
  {
   "cell_type": "code",
   "execution_count": null,
   "id": "fe666f4c",
   "metadata": {},
   "outputs": [],
   "source": [
    "stored_alphas_covmat = pd.read_csv(\n",
    "    fit.path / f\"tables/datacuts_theory_theorycovmatconfig_point_prescriptions{alphas_pp_id}_theory_covmat_custom_per_prescription.csv\",\n",
    "    index_col=[0, 1, 2],\n",
    "    header=[0, 1, 2],\n",
    "    sep=\"\\t|,\",\n",
    "    encoding=\"utf-8\",\n",
    "    engine=\"python\",\n",
    ").fillna(0)\n",
    "storedcovmat_index = pd.MultiIndex.from_tuples(\n",
    "    [(aa, bb, np.int64(cc)) for aa, bb, cc in stored_alphas_covmat.index],\n",
    "    names=[\"group\", \"dataset\", \"id\"],\n",
    ")  # make sure theoryID is an integer, same as in S\n",
    "stored_alphas_covmat = pd.DataFrame(\n",
    "    stored_alphas_covmat.values, index=storedcovmat_index, columns=storedcovmat_index\n",
    ")\n",
    "stored_alphas_covmat = stored_alphas_covmat.reindex(S.index).T.reindex(S.index)\n",
    "\n",
    "if not np.allclose(S, stored_alphas_covmat):\n",
    "    print(\"Reconstructed theory covmat, S, is not the same as the stored covmat!\")"
   ]
  },
  {
   "cell_type": "code",
   "execution_count": null,
   "id": "29e4c30f",
   "metadata": {},
   "outputs": [],
   "source": [
    "theorypreds_fit = API.group_result_table_no_table(**inps_central_fit).iloc[:, 2:]"
   ]
  },
  {
   "cell_type": "code",
   "execution_count": null,
   "id": "ac6553b1",
   "metadata": {},
   "outputs": [],
   "source": [
    "exp_covmat = API.groups_covmat(\n",
    "    use_t0=True,\n",
    "    datacuts={\"from_\": \"fit\"},\n",
    "    t0pdfset={\"from_\": \"datacuts\"},\n",
    "    theoryid= {\"from_\": \"theory\"},\n",
    "    theory={\"from_\": \"fit\"},\n",
    "    **common_dict\n",
    ")"
   ]
  },
  {
   "cell_type": "code",
   "execution_count": null,
   "id": "6ed73880",
   "metadata": {},
   "outputs": [],
   "source": [
    "total_th_covmat = pd.read_csv(\n",
    "    fit.path / f\"tables/datacuts_theory_theorycovmatconfig_theory_covmat_custom.csv\",\n",
    "    index_col=[0, 1, 2],\n",
    "    header=[0, 1, 2],\n",
    "    sep=\"\\t|,\",\n",
    "    encoding=\"utf-8\",\n",
    "    engine=\"python\",\n",
    ").fillna(0)\n",
    "storedcovmat_index = pd.MultiIndex.from_tuples(\n",
    "    [(aa, bb, np.int64(cc)) for aa, bb, cc in total_th_covmat.index],\n",
    "    names=[\"group\", \"dataset\", \"id\"],\n",
    ")  # make sure theoryID is an integer, same as in S\n",
    "total_th_covmat = pd.DataFrame(\n",
    "    total_th_covmat.values, index=storedcovmat_index, columns=storedcovmat_index\n",
    ")\n",
    "total_th_covmat = total_th_covmat.reindex(S.index).T.reindex(S.index)"
   ]
  },
  {
   "cell_type": "code",
   "execution_count": null,
   "id": "a05e4850",
   "metadata": {},
   "outputs": [],
   "source": [
    "# Note that mean_prediction is different from the prediction of the mean PDF (i.e. replica0)\n",
    "mean_prediction = theorypreds_fit.mean(axis=1)\n",
    "\n",
    "X = np.zeros_like(exp_covmat.values)\n",
    "for i in range(theorypreds_fit.shape[1]):\n",
    "    X += np.outer(\n",
    "        (theorypreds_fit.iloc[:, i] - mean_prediction),\n",
    "        (theorypreds_fit.iloc[:, i] - mean_prediction),\n",
    "    )\n",
    "X *= 1 / theorypreds_fit.shape[1]"
   ]
  },
  {
   "cell_type": "code",
   "execution_count": null,
   "id": "f4ed15ab",
   "metadata": {},
   "outputs": [],
   "source": [
    "# In the computation we use <D>_rep and not the central value of the data D_exp, though if\n",
    "# resample_negative_pseudodata: false\n",
    "# is set in the n3fit runcard, D_exp and <D>_rep should be the same as N_rep -> inf.\n",
    "pseudodata = API.read_pdf_pseudodata(**common_dict)\n",
    "dat_reps = pd.concat(\n",
    "    [i.pseudodata.reindex(prior_theorypreds_central.index) for i in pseudodata], axis=1\n",
    ")"
   ]
  },
  {
   "cell_type": "code",
   "execution_count": null,
   "id": "3b0e8a15",
   "metadata": {},
   "outputs": [],
   "source": [
    "invcov = np.linalg.inv(exp_covmat + total_th_covmat)\n",
    "\n",
    "# delta_T_tilde is Eq. 3.37 in https://arxiv.org/pdf/2105.05114\n",
    "delta_T_tilde = -S_hat @ invcov @ (mean_prediction - dat_reps.mean(axis=1))\n",
    "\n",
    "# P_tilde is Eq. 3.38.\n",
    "#\n",
    "# Note that not all terms of the equation in the paper are here, in particular\n",
    "# X_tile and X_hat vanish. This is because they measure the covariance of\n",
    "# T_tilde over PDF replicas, but for us T_tilde is alphas. The prediciton of\n",
    "# alphas does not depend on the PDF, and as such T_tilde^(r) == T_tilde^(0)\n",
    "P_tilde = S_hat.T @ invcov @ X @ invcov @ S_hat + S_tilde - S_hat.T @ invcov @ S_hat\n",
    "\n",
    "pred = alphas_central + delta_T_tilde\n",
    "unc = np.sqrt(P_tilde)\n",
    "print(rf\"Prediction for $\\alpha_s$: {pred:.4f} ± {unc:.4f}\")"
   ]
  }
 ],
 "metadata": {
  "kernelspec": {
   "display_name": "nnpdf",
   "language": "python",
   "name": "python3"
  },
  "language_info": {
   "codemirror_mode": {
    "name": "ipython",
    "version": 3
   },
   "file_extension": ".py",
   "mimetype": "text/x-python",
   "name": "python",
   "nbconvert_exporter": "python",
   "pygments_lexer": "ipython3",
   "version": "3.12.4"
  }
 },
 "nbformat": 4,
 "nbformat_minor": 5
}
